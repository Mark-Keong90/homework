{
 "cells": [
  {
   "cell_type": "markdown",
   "metadata": {},
   "source": [
    "<img src=\"http://imgur.com/1ZcRyrc.png\" style=\"float: left; margin: 20px; height: 55px\">\n",
    "\n",
    "# Project 1: Python Coding Exercises\n",
    "\n",
    "_Authors: Joseph Nelson (DC) _\n",
    "\n",
    "---"
   ]
  },
  {
   "cell_type": "markdown",
   "metadata": {},
   "source": [
    "The following code challenges are drawn from common exercises used in technical interviews.\n",
    "\n",
    "Please note that there may be several ways to approach each challenge. If you get stuck, try mapping out your approach in pseudocode first. Finally, while solutions to problems like these may be found online, remember that if you copy/paste code that you can't explain, you'll be missing out on the point of the project. The only way to truly learn a new skill is through practice, trial, and error - we can only help you improve by understanding where you are having trouble."
   ]
  },
  {
   "cell_type": "markdown",
   "metadata": {},
   "source": [
    "### Challenge 1: Largest Palindrome\n",
    "A palindromic number reads the same both ways. For example, 1234321 is a palindrome. The largest palindrome made from the product of two two-digit numbers is 9009 = 91 × 99. Find the largest palindrome made from the product of two three-digit numbers. Afterward, write a brief explanation walking through your code's logic in markdown."
   ]
  },
  {
   "cell_type": "code",
   "execution_count": 29,
   "metadata": {},
   "outputs": [
    {
     "name": "stdout",
     "output_type": "stream",
     "text": [
      "Palindrome largest: 906609\n"
     ]
    }
   ],
   "source": [
    "a_prev = 0\n",
    "\n",
    "for num_1 in range(999,99,-1):\n",
    "    for num_2 in range(999,99,-1):\n",
    "        a = num_1 * num_2\n",
    "        a = str(a)\n",
    "        if list(a) == list((reversed(list(a)))):\n",
    "            #print(a)\n",
    "            #print('Palindrome number detected')\n",
    "            a = int(a)            \n",
    "            if a_prev < a:\n",
    "                a_prev = a\n",
    "                \n",
    "print('Palindrome largest: %d' %a_prev)"
   ]
  },
  {
   "cell_type": "markdown",
   "metadata": {},
   "source": [
    "(1) Create a control flow to multiple two three digit numbers, starting from the largest (999)\n",
    "(2) Reverse this multiplied number\n",
    "(3) Compare between the two numbers\n",
    "(4) Store and compare against the previous palindromic number within the control flow, which will filter the multiplied numbers down to the largest palindrome number."
   ]
  },
  {
   "cell_type": "markdown",
   "metadata": {},
   "source": [
    "\n",
    "### Challenge 2: Summation of Primes\n",
    "The sum of the primes below 10 is 2 + 3 + 5 + 7 = 17. Find the sum of all the primes below 2,000. Afterward, write a brief explanation walking through your code's logic in markdown."
   ]
  },
  {
   "cell_type": "code",
   "execution_count": 61,
   "metadata": {},
   "outputs": [
    {
     "name": "stdout",
     "output_type": "stream",
     "text": [
      "The sum of the prime numbers is 277050\n"
     ]
    }
   ],
   "source": [
    "num_total = 0\n",
    "num_limit = 2000\n",
    "\n",
    "for num in range(2,num_limit,1):\n",
    "    count = 0\n",
    "    for denom in range(2, num, 1):\n",
    "        if num%denom>0:\n",
    "            count = count + 1\n",
    "    if count >= (num-2):\n",
    "        num_total = num_total + num\n",
    "        \n",
    "print('The sum of the prime numbers is %d' %num_total)"
   ]
  },
  {
   "cell_type": "markdown",
   "metadata": {},
   "source": [
    "(1) Design a way to identify a prime number. This was achieved using the modulo function and counting system which compared the total division with remainders - where a prime is identified if the divisions (outside of 1 and the number) all have remainders.\n",
    "\n",
    "(2) Each identified prime number was then added to a variable ('num_total') till the limit, 2000."
   ]
  },
  {
   "cell_type": "markdown",
   "metadata": {},
   "source": [
    "### Challenge 3: Multiples of 3 and 5\n",
    "If we list all of the natural numbers below 10 that are multiples of 3 or 5, we get 3, 5, 6, and 9. The sum of these multiples is 23. Find the sum of all the multiples of 3 and 5 below 1,000. Afterward, write a brief explanation walking through your code's logic in markdown."
   ]
  },
  {
   "cell_type": "code",
   "execution_count": 66,
   "metadata": {},
   "outputs": [
    {
     "name": "stdout",
     "output_type": "stream",
     "text": [
      "The sum of all natural numbers that are multiples of 3 or 5, is 2318\n"
     ]
    }
   ],
   "source": [
    "num_total = 0\n",
    "\n",
    "for num in range(1,100,1):\n",
    "    if num%3==0 or num%5==0:\n",
    "        num_total = num_total + num\n",
    "        #print(num)\n",
    "        \n",
    "print('The sum of all natural numbers that are multiples of 3 or 5, is %d' %num_total)"
   ]
  },
  {
   "cell_type": "markdown",
   "metadata": {},
   "source": [
    "(1) Design a way to identify a natural number that are multiplies of 3 and 5; using a modulo operator to check for remainders when the number is divided by 3 or 5.\n",
    "\n",
    "(2) Each identified number was then added to a variable ('num_total') till the limit, 1000."
   ]
  },
  {
   "cell_type": "markdown",
   "metadata": {},
   "source": [
    "### Challenge 4: String Compressor\n",
    "Implement a method to perform basic string compression using the counts of repeated characters. (This is called run-length encoding.) For example, the string \"aabcccccaaa\" would become a2b1c5a3. If the “compressed” string would not become smaller than the original string, your method should return the original string. You can assume the string has only uppercase and lowercase letters (a–z). Specify whether your solution is case sensitive or case insensitive and what you would need to change to make it the other. Afterward, write a brief explanation walking through your code's logic in markdown."
   ]
  },
  {
   "cell_type": "code",
   "execution_count": 71,
   "metadata": {},
   "outputs": [
    {
     "name": "stdout",
     "output_type": "stream",
     "text": [
      "['a', '2', 'b', 'c', '5', 'a', '3']\n"
     ]
    }
   ],
   "source": [
    "test_string = 'aabcccccaaa'\n",
    "char_checker = []\n",
    "char_prev = None\n",
    "count = 1\n",
    "\n",
    "list_string = list(test_string)\n",
    "\n",
    "for char in list_string:\n",
    "    #print(char)\n",
    "    if char_prev == char:\n",
    "        count = count + 1\n",
    "        if count > 2:\n",
    "            char_checker.pop(-1)\n",
    "            char_checker.append(str(count))\n",
    "        else:\n",
    "            char_checker.append(str(count))\n",
    "    else:\n",
    "        char_checker.append(char)\n",
    "        count = 1\n",
    "    char_prev = char\n",
    "    \n",
    "                            \n",
    "print(str(char_checker))"
   ]
  },
  {
   "cell_type": "markdown",
   "metadata": {},
   "source": [
    "(1) Use a for loop to compare the previous char ('prev_char') with the present ('char')\n",
    "(2) If the prev_char and char is similiar, the counter is raised ('count') and added to a list ('char_checker')\n",
    "(3) If the prev_char and char is NOT similiar, the char ('char') is added to the list ('char_checker'); count is not added.\n",
    "(4) When the count is above 2, the previous object in the char_checker is removed (using pop method) and replaced with latest count.\n"
   ]
  },
  {
   "cell_type": "markdown",
   "metadata": {},
   "source": [
    "### *BONUS* Challenge: FizzBuzz\n",
    "Write a program that prints all of the numbers from 1 to 100. For multiples of 3, instead of the number, print \"Fizz;\" for multiples of 5, print \"Buzz.\" For numbers that are multiples of both 3 and 5, print \"FizzBuzz.\" Afterward, write a brief explanation walking through your code's logic in markdown."
   ]
  },
  {
   "cell_type": "code",
   "execution_count": null,
   "metadata": {
    "collapsed": true
   },
   "outputs": [],
   "source": []
  }
 ],
 "metadata": {
  "anaconda-cloud": {},
  "kernelspec": {
   "display_name": "Python 3",
   "language": "python",
   "name": "python3"
  },
  "language_info": {
   "codemirror_mode": {
    "name": "ipython",
    "version": 3
   },
   "file_extension": ".py",
   "mimetype": "text/x-python",
   "name": "python",
   "nbconvert_exporter": "python",
   "pygments_lexer": "ipython3",
   "version": "3.6.5"
  }
 },
 "nbformat": 4,
 "nbformat_minor": 2
}
